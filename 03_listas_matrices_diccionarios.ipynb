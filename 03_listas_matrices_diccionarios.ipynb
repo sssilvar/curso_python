{
 "cells": [
  {
   "cell_type": "markdown",
   "metadata": {},
   "source": [
    "# Listas, Arregos, matrices y  diccionarios\n",
    "Existen otro tipo de variables más complejas. Éstas almacenan datos del tipo que vimos en las secciones anteriores. Vamos a revisar algunas de ellas y cómo utilizarlas.\n",
    "\n",
    "## Listas *list*\n",
    "Las listas son arreglos (o vectores) que permiten almacenar diferentes tipos en una sola variable."
   ]
  },
  {
   "cell_type": "code",
   "execution_count": 4,
   "metadata": {},
   "outputs": [
    {
     "name": "stdout",
     "output_type": "stream",
     "text": [
      "Días de la semana: ['Lunes', 'Martes', 'Miercoles', 'Jueves', 'Viernes']\n",
      "Temperatura: [17.5, 20.5, 28.3, 25.4, 23.6]\n"
     ]
    }
   ],
   "source": [
    "# Ejemplos de listas\n",
    "lista_str = ['Lunes', 'Martes', 'Miercoles', 'Jueves', 'Viernes']\n",
    "lista_num = [17.5, 20.5, 28.3, 25.4, 23.6]\n",
    "\n",
    "print(\"Días de la semana: %s\" % lista_str)\n",
    "print(\"Temperatura: %s\" % lista_num)"
   ]
  },
  {
   "cell_type": "markdown",
   "metadata": {},
   "source": [
    "Sin embargo, también pueden almacenar información mixta."
   ]
  },
  {
   "cell_type": "code",
   "execution_count": 9,
   "metadata": {},
   "outputs": [
    {
     "name": "stdout",
     "output_type": "stream",
     "text": [
      "['Lunes', 17.5, False]\n",
      "Lunes\n",
      "False\n",
      "['Lunes', 17.5, False]\n"
     ]
    }
   ],
   "source": [
    "# Lista mixta\n",
    "lista_mix = ['Lunes', 17.5, False]\n",
    "print(lista_mix)\n",
    "\n",
    "# Imprimir el primer elemento de la lista\n",
    "print(lista_mix[0])\n",
    "\n",
    "# Imprimir el último elemento de la lista\n",
    "print(lista_mix[-1])\n",
    "\n",
    "# Imprimir los tres primeros elementos de una lista\n",
    "print(lista_mix[:3])"
   ]
  },
  {
   "cell_type": "markdown",
   "metadata": {},
   "source": [
    "**ADVERTENCIA** El uso de variables mixtas se debe hacer con cuidado ya que esto puede ocasionar problemas si no se maneja debidamente.\n",
    "\n",
    "## Marices\n",
    "Las matrices se pueden ver como una lista de listas. No son unidimensionales sino que pueden tener más dimensiones. Para definirlas, simplemente se debe agregar un bracket más [[fila_1], [fila_2], ..., [fila_n]]."
   ]
  },
  {
   "cell_type": "code",
   "execution_count": 12,
   "metadata": {},
   "outputs": [
    {
     "name": "stdout",
     "output_type": "stream",
     "text": [
      "[[1, 2, 3], [4, 5, 6], [7, 8, 9]]\n",
      "Primera fila:\n",
      "[1, 2, 3]\n"
     ]
    }
   ],
   "source": [
    "matriz = [\n",
    "    [1, 2, 3],\n",
    "    [4, 5, 6],\n",
    "    [7, 8, 9]\n",
    "]\n",
    "\n",
    "print(matriz)\n",
    "\n",
    "# Imprimir primera fila\n",
    "print('Primera fila:')\n",
    "print(matriz[0])"
   ]
  },
  {
   "cell_type": "markdown",
   "metadata": {},
   "source": [
    "## Diccionarios *dict*\n",
    "Los diccionarios son estructuras complejas que permiten almacenar información de manera más comprensiva.En lugar de usar números para indexar la información, puede utilizar texto (**keys**)."
   ]
  },
  {
   "cell_type": "code",
   "execution_count": 15,
   "metadata": {},
   "outputs": [
    {
     "name": "stdout",
     "output_type": "stream",
     "text": [
      "{'edad': 40, 'nombre': 'Pablo', 'ingresos': 30000, 'casado': True}\n",
      "Edad:\n",
      "40\n"
     ]
    }
   ],
   "source": [
    "# Pablo como un diccionario\n",
    "pablo = {\n",
    "    'nombre': 'Pablo',\n",
    "    'edad': 40,\n",
    "    'casado': True,\n",
    "    'ingresos': 30000\n",
    "}\n",
    "\n",
    "# Imprimir a Pablo\n",
    "print(pablo)\n",
    "\n",
    "# Imprimir solo la edad de pablo\n",
    "print('Edad:')\n",
    "print(pablo['edad'])"
   ]
  },
  {
   "cell_type": "code",
   "execution_count": 18,
   "metadata": {},
   "outputs": [
    {
     "name": "stdout",
     "output_type": "stream",
     "text": [
      "['edad', 'nombre', 'ingresos', 'casado']\n"
     ]
    }
   ],
   "source": [
    "# Imprimir la información (keys) de pablo\n",
    "print(pablo.keys())"
   ]
  },
  {
   "cell_type": "code",
   "execution_count": 19,
   "metadata": {},
   "outputs": [
    {
     "name": "stdout",
     "output_type": "stream",
     "text": [
      "[40, 'Pablo', 30000, True]\n"
     ]
    }
   ],
   "source": [
    "# Imprimir unicamente los valores de Pablo\n",
    "print(pablo.values())"
   ]
  }
 ],
 "metadata": {
  "kernelspec": {
   "display_name": "Python 2",
   "language": "python",
   "name": "python2"
  },
  "language_info": {
   "codemirror_mode": {
    "name": "ipython",
    "version": 2
   },
   "file_extension": ".py",
   "mimetype": "text/x-python",
   "name": "python",
   "nbconvert_exporter": "python",
   "pygments_lexer": "ipython2",
   "version": "2.7.15"
  }
 },
 "nbformat": 4,
 "nbformat_minor": 2
}
