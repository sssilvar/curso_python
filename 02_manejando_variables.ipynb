{
 "cells": [
  {
   "cell_type": "markdown",
   "metadata": {},
   "source": [
    "# Manejando variables\n",
    "En la sección anterior manejaste variables de tipo **str** (texto) **int** (numérica - enteros) y **bool** (lógica).\n",
    "\n",
    "Dependiendo del tipo de variable, Python permite ciertas operaciones entre ellas. Por ejemplo, es lógico pensar que las operaciones aritméticas están reservadas para todas las variables numéricas."
   ]
  },
  {
   "cell_type": "code",
   "execution_count": 2,
   "metadata": {},
   "outputs": [
    {
     "name": "stdout",
     "output_type": "stream",
     "text": [
      "Suma de enteros: 9\n",
      "Suma de decimales: 5.200000\n",
      "resta de decimales: 5.430000\n",
      "Multiplicacion: 6.600000\n",
      "Division: 1.100000\n",
      "Módulo: 1\n",
      "Potenciación: 32.000000\n"
     ]
    }
   ],
   "source": [
    "suma_enteros = 3 + 6\n",
    "suma_decimales = 3.5 + 1.7\n",
    "resta = 6.54 - 1.11\n",
    "\n",
    "multiplicacion = 3.3 * 2\n",
    "division = 3.3 / 3\n",
    "modulo = 3 % 2  # Residuo de una division\n",
    "\n",
    "potenciacion = 2 ** 5  # 2^5 = 32\n",
    "\n",
    "print(\"Suma de enteros: %d\" % suma_enteros)\n",
    "print(\"Suma de decimales: %f\" % suma_decimales)\n",
    "print(\"resta de decimales: %f\" % resta)\n",
    "\n",
    "print(\"Multiplicacion: %f\" % multiplicacion)\n",
    "print(\"Division: %f\" % division)\n",
    "\n",
    "print(\"Módulo: %d\" % modulo)\n",
    "print(\"Potenciación: %f\" % potenciacion)"
   ]
  },
  {
   "cell_type": "markdown",
   "metadata": {},
   "source": [
    "## Operaciones con strings\n",
    "¡Genial!\n",
    "Ahora, existen algunas funciones y operaciones con texto que te pueden ayudar a mejorar la forma en que visualizas la información en un script. Por ejemplo:"
   ]
  },
  {
   "cell_type": "code",
   "execution_count": 6,
   "metadata": {},
   "outputs": [
    {
     "name": "stdout",
     "output_type": "stream",
     "text": [
      "Hola Pablo!\n"
     ]
    }
   ],
   "source": [
    "# Concatenar (unir) dos cadenas de texto\n",
    "hola = \"Hola\"\n",
    "nombre = \"Pablo\"\n",
    "\n",
    "print(hola + \" \" + nombre + \"!\") # Añadimos un espacio y un signo de admiración para que quede mejor"
   ]
  },
  {
   "cell_type": "code",
   "execution_count": 9,
   "metadata": {},
   "outputs": [
    {
     "name": "stdout",
     "output_type": "stream",
     "text": [
      "Hola PABLO\n",
      "Hola pablo\n",
      "Hola Pablo\n"
     ]
    }
   ],
   "source": [
    "# Expresar texto en mayúsculas o minúsculas\n",
    "nombre = \"PaBlO\"\n",
    "print(\"Hola \" + nombre.upper())  # Imprimir en mayúsculas\n",
    "print(\"Hola \" + nombre.lower())  # Imprimir en minúsculas\n",
    "print(\"Hola \" + nombre.capitalize())  # Imprimir primera en mayúscula"
   ]
  },
  {
   "cell_type": "markdown",
   "metadata": {},
   "source": [
    "## Operaciones con booleans (lógicas)\n",
    "Las variables lógicas solo pueden tomar dos valores **True/False** son muy útiles para cuando queremos evaluar condiciones. Por ejemplo:"
   ]
  },
  {
   "cell_type": "code",
   "execution_count": 12,
   "metadata": {},
   "outputs": [
    {
     "name": "stdout",
     "output_type": "stream",
     "text": [
      "Es tres mayor que cinco? False\n",
      "Es tres menor que cinco? True\n"
     ]
    }
   ],
   "source": [
    "# Verificar si un número es mayor o menor que otro\n",
    "tres_mayorque_cinco = 3 > 5\n",
    "tres_menorque_cinco = 3 < 5\n",
    "\n",
    "print(\"Es tres mayor que cinco? %s\" % tres_mayorque_cinco)\n",
    "print(\"Es tres menor que cinco? %s\" % tres_menorque_cinco)"
   ]
  },
  {
   "cell_type": "code",
   "execution_count": 14,
   "metadata": {},
   "outputs": [
    {
     "name": "stdout",
     "output_type": "stream",
     "text": [
      "La palabra 'tortuga' es mas larga que la palabra 'murcielago'? False\n"
     ]
    }
   ],
   "source": [
    "# Verificar si un texto es más largo que el otro (para esto utilizamos la función len())\n",
    "tortuga = \"tortuga\"\n",
    "murcielago = \"murcielago\"\n",
    "condicion = len(tortuga) > len(murcielago)\n",
    "\n",
    "print(\"La palabra 'tortuga' es mas larga que la palabra 'murcielago'? %s\" % condicion)"
   ]
  },
  {
   "cell_type": "markdown",
   "metadata": {},
   "source": [
    "# Convertir una variable de un tipo a otro (casting)\n",
    "A veces es útil convertir una variable de un tipo a otro (como la conversión de **bool** a **str** que hacemos para imprimir 'True/false').\n",
    "Esto lo podemos hacer simplemente llamando el tipo de la variable como una función. Así se ve:"
   ]
  },
  {
   "cell_type": "code",
   "execution_count": 16,
   "metadata": {},
   "outputs": [
    {
     "name": "stdout",
     "output_type": "stream",
     "text": [
      "True\n"
     ]
    }
   ],
   "source": [
    "# Boolean (lógica) a string\n",
    "verdadero = str(True)\n",
    "print(verdadero)"
   ]
  },
  {
   "cell_type": "code",
   "execution_count": 17,
   "metadata": {},
   "outputs": [
    {
     "name": "stdout",
     "output_type": "stream",
     "text": [
      "La temperatura es 24.5 °C\n"
     ]
    }
   ],
   "source": [
    "# Númerico (int/float) a string\n",
    "temperatura = str(24.5)\n",
    "print(\"La temperatura es \" + temperatura + \" °C\")  # Podemos concatenar 'temperatura' porque ya es un string"
   ]
  },
  {
   "cell_type": "code",
   "execution_count": 19,
   "metadata": {},
   "outputs": [
    {
     "name": "stdout",
     "output_type": "stream",
     "text": [
      "3.900000 es aproximadamente 3\n"
     ]
    }
   ],
   "source": [
    "# Redondear un decimal hacia abajo\n",
    "casi_cuatro = 3.9\n",
    "print(\"%f es aproximadamente %d\" % (casi_cuatro, int(casi_cuatro)))"
   ]
  }
 ],
 "metadata": {
  "kernelspec": {
   "display_name": "Python 2",
   "language": "python",
   "name": "python2"
  },
  "language_info": {
   "codemirror_mode": {
    "name": "ipython",
    "version": 2
   },
   "file_extension": ".py",
   "mimetype": "text/x-python",
   "name": "python",
   "nbconvert_exporter": "python",
   "pygments_lexer": "ipython2",
   "version": "2.7.15"
  }
 },
 "nbformat": 4,
 "nbformat_minor": 2
}
