{
 "cells": [
  {
   "cell_type": "markdown",
   "metadata": {},
   "source": [
    "# Introducción a Python\n",
    "\n",
    "## ¿Qué es Python?\n",
    "*  Es un lenguaje de programación\n",
    "*  Fue liberado al público en 1991\n",
    "*  Crecientemente popular en los últimos años\n",
    "*  Multi-plataforma (Windows, Linux, Mac, etc.)\n",
    "*  Existen dos grandes versiones **Python 2 (v2.7)** y **Python 3 (v3.6)**\n",
    "*  [Saber más](https://es.wikipedia.org/wiki/Python)\n",
    "\n",
    "## ¿Qué tengo que instalar?\n",
    "Para poder desarrollar en Python necesitas dos cosas:\n",
    "*  Interpreter\n",
    "*  Editor de código (texto)\n",
    "\n",
    "### Interpreter\n",
    "Puedes descargar Python desde la página oficial: [https://www.python.org/downloads/](https://www.python.org/downloads/). Sin embargo, existen también paquetes con librerías instaladas por defecto. [Anaconda](https://anaconda.org/) es uno de los más famosos.\n",
    "\n",
    "### Editor de código (texto)\n",
    "Aquí es donde editarás (y ejecutarás) tus scripts. Uno de los más famosos es [Visual Studio Code](https://code.visualstudio.com/) y permite editar y ejecutar scripts en python.\n",
    "\n",
    "## ¿Qué es una librería?\n",
    "Una librería o **package** es un paquete de código especializado y versátil. Esto ahorra escribir código desde cero.\n",
    "\n",
    "# ¿Podemos empezar a hacer algo?\n",
    "¡Por supuesto! Vamos a escribir nuestro primer código.\n",
    "Para empezar, vamos simplemente a imprimir **\"Mi primer mensaje\"**"
   ]
  },
  {
   "cell_type": "code",
   "execution_count": 2,
   "metadata": {},
   "outputs": [
    {
     "name": "stdout",
     "output_type": "stream",
     "text": [
      "Mi primer mensaje!\n"
     ]
    }
   ],
   "source": [
    "print(\"Mi primer mensaje!\")"
   ]
  },
  {
   "cell_type": "markdown",
   "metadata": {},
   "source": [
    "## La función print()\n",
    "Ésta función permite que imprimamos en consola cualquier tipo de variable con la que estemos trabajando (numérica, texto, lógica, etc.).\n",
    "\n",
    "**Ejemplo:** Pablo tiene 40 años y está casado. Imprime la información de Pablo."
   ]
  },
  {
   "cell_type": "code",
   "execution_count": 4,
   "metadata": {},
   "outputs": [
    {
     "name": "stdout",
     "output_type": "stream",
     "text": [
      "Pablo\n",
      "40\n",
      "True\n"
     ]
    }
   ],
   "source": [
    "# Crea las variables\n",
    "nombre = \"Pablo\"\n",
    "edad = 40\n",
    "casado = True\n",
    "\n",
    "# Imprímelas\n",
    "print(nombre)\n",
    "print(edad)\n",
    "print(casado)"
   ]
  },
  {
   "cell_type": "markdown",
   "metadata": {},
   "source": [
    "**¿No se ve muy claro, verdad?** Para mejorar la visualización, la función print cuenta con una funcionalidad llamada **formating** que permite imprimir texto y variables en una sola línea. Para imprimir la edad de Pablo se podría:"
   ]
  },
  {
   "cell_type": "code",
   "execution_count": 6,
   "metadata": {},
   "outputs": [
    {
     "name": "stdout",
     "output_type": "stream",
     "text": [
      "Edad: 40\n"
     ]
    }
   ],
   "source": [
    "print(\"Edad: %d\" % edad)"
   ]
  },
  {
   "cell_type": "markdown",
   "metadata": {},
   "source": [
    "¡Así es! el símbolo **%** es el que permite la impresión de ciertas variables. Dentro de los tipos de variable más típicos están:\n",
    "\n",
    "*  **%d** Para imprimir enteros (**int**)\n",
    "*  **%f** Para imprimir decimales (**float**)\n",
    "*  **%s** para imprimir texto (**str**)\n",
    "\n",
    "Ahora intenta imprimir la información de Pablo de manera más clara. Si utilizas **%s** python intentará convertir la variable a texto."
   ]
  },
  {
   "cell_type": "code",
   "execution_count": 9,
   "metadata": {},
   "outputs": [
    {
     "name": "stdout",
     "output_type": "stream",
     "text": [
      "Nombre: Pablo\n",
      "Edad: 40 años\n",
      "Casado? True\n"
     ]
    }
   ],
   "source": [
    "print(\"Nombre: %s\" % nombre)\n",
    "print(\"Edad: %d años\" % edad)\n",
    "print(\"Casado? %s\" % casado)"
   ]
  },
  {
   "cell_type": "markdown",
   "metadata": {},
   "source": [
    "## Ejercicio\n",
    "Sara es la esposa de Pablo. Tiene 38 años. Pablo gana 30.000USD/año y Sara 32.000USG/año. Imprime La información de pablo y Sara de la siguiente manera:\n",
    "\n",
    "```\n",
    "Nombre: Pablo\n",
    "Edad: 40 años\n",
    "Casado? True\n",
    "\n",
    "Nombre: Sara\n",
    "Edad: 38 años\n",
    "Casada? True\n",
    "\n",
    "Pablo y Sara ganan 62000 USD/año\n",
    "```"
   ]
  }
 ],
 "metadata": {
  "kernelspec": {
   "display_name": "Python 2",
   "language": "python",
   "name": "python2"
  },
  "language_info": {
   "codemirror_mode": {
    "name": "ipython",
    "version": 2
   },
   "file_extension": ".py",
   "mimetype": "text/x-python",
   "name": "python",
   "nbconvert_exporter": "python",
   "pygments_lexer": "ipython2",
   "version": "2.7.15"
  }
 },
 "nbformat": 4,
 "nbformat_minor": 2
}
